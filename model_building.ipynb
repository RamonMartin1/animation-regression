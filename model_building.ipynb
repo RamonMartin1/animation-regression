{
 "cells": [
  {
   "cell_type": "code",
   "execution_count": 1,
   "metadata": {},
   "outputs": [],
   "source": [
    "import pandas as pd\n",
    "import numpy as np\n",
    "import seaborn as sns\n",
    "import matplotlib.pyplot as plt\n",
    "import pickle\n",
    "import datetime\n",
    "import web_scraping as ws\n",
    "\n",
    "%config InlineBackend.figure_format = 'png'\n",
    "%matplotlib inline\n",
    "sns.set(color_codes=True)\n",
    "plt.style.use('seaborn-colorblind')\n",
    "\n",
    "pd.set_option('display.max_columns', None)\n",
    "pd.set_option('display.max_rows', 50)\n",
    "pd.set_option('display.precision', 2)"
   ]
  },
  {
   "cell_type": "code",
   "execution_count": null,
   "metadata": {},
   "outputs": [],
   "source": [
    "is_genre_cols = ['is_Action', 'is_Adventure',\n",
    "                 'is_Animation', 'is_Biography', 'is_Comedy', 'is_Crime', 'is_Drama',\n",
    "                 'is_Family', 'is_Fantasy', 'is_History', 'is_Horror', 'is_Music',\n",
    "                 'is_Musical', 'is_Mystery', 'is_News', 'is_Romance', 'is_Sci-Fi',\n",
    "                 'is_Sport', 'is_Thriller', 'is_War', 'is_Western']"
   ]
  },
  {
   "cell_type": "code",
   "execution_count": null,
   "metadata": {},
   "outputs": [],
   "source": [
    "# Put in feature_engineering module\n",
    "\n",
    "def create_genre_encodings(df, unique_genres):\n",
    "    for genre in unique_genres:\n",
    "        df['is_' + genre] = df.apply(lambda x: genre in x['genres'], axis=1).astype(int)"
   ]
  },
  {
   "cell_type": "code",
   "execution_count": 2,
   "metadata": {},
   "outputs": [],
   "source": [
    "with open('usa_df.pickle', 'rb') as read_file:\n",
    "    usa_df = pickle.load(read_file)"
   ]
  },
  {
   "cell_type": "code",
   "execution_count": 3,
   "metadata": {},
   "outputs": [
    {
     "name": "stdout",
     "output_type": "stream",
     "text": [
      "<class 'pandas.core.frame.DataFrame'>\n",
      "Int64Index: 474 entries, 1393 to 2836\n",
      "Data columns (total 38 columns):\n",
      " #   Column                  Non-Null Count  Dtype         \n",
      "---  ------                  --------------  -----         \n",
      " 0   title                   474 non-null    object        \n",
      " 1   country                 474 non-null    object        \n",
      " 2   runtime_minutes         435 non-null    float64       \n",
      " 3   budget                  332 non-null    float64       \n",
      " 4   global_gross            474 non-null    float64       \n",
      " 5   mpaa_rating             400 non-null    object        \n",
      " 6   genres                  474 non-null    object        \n",
      " 7   imdb_user_rating        472 non-null    float64       \n",
      " 8   imdb_user_rating_count  472 non-null    float64       \n",
      " 9   oscar_wins              31 non-null     float64       \n",
      " 10  non_oscar_wins          238 non-null    float64       \n",
      " 11  metascore               298 non-null    float64       \n",
      " 12  release_date            474 non-null    datetime64[ns]\n",
      " 13  years_since_release     474 non-null    float64       \n",
      " 14  is_golden_week_release  474 non-null    int64         \n",
      " 15  is_summer_release       474 non-null    int64         \n",
      " 16  is_xmas_release         474 non-null    int64         \n",
      " 17  is_Action               474 non-null    int64         \n",
      " 18  is_Adventure            474 non-null    int64         \n",
      " 19  is_Animation            474 non-null    int64         \n",
      " 20  is_Biography            474 non-null    int64         \n",
      " 21  is_Comedy               474 non-null    int64         \n",
      " 22  is_Crime                474 non-null    int64         \n",
      " 23  is_Drama                474 non-null    int64         \n",
      " 24  is_Family               474 non-null    int64         \n",
      " 25  is_Fantasy              474 non-null    int64         \n",
      " 26  is_History              474 non-null    int64         \n",
      " 27  is_Horror               474 non-null    int64         \n",
      " 28  is_Music                474 non-null    int64         \n",
      " 29  is_Musical              474 non-null    int64         \n",
      " 30  is_Mystery              474 non-null    int64         \n",
      " 31  is_News                 474 non-null    int64         \n",
      " 32  is_Romance              474 non-null    int64         \n",
      " 33  is_Sci-Fi               474 non-null    int64         \n",
      " 34  is_Sport                474 non-null    int64         \n",
      " 35  is_Thriller             474 non-null    int64         \n",
      " 36  is_War                  474 non-null    int64         \n",
      " 37  is_Western              474 non-null    int64         \n",
      "dtypes: datetime64[ns](1), float64(9), int64(24), object(4)\n",
      "memory usage: 144.4+ KB\n"
     ]
    }
   ],
   "source": [
    "usa_df.info()"
   ]
  }
 ],
 "metadata": {
  "kernelspec": {
   "display_name": "Python [conda env:metis] *",
   "language": "python",
   "name": "conda-env-metis-py"
  },
  "language_info": {
   "codemirror_mode": {
    "name": "ipython",
    "version": 3
   },
   "file_extension": ".py",
   "mimetype": "text/x-python",
   "name": "python",
   "nbconvert_exporter": "python",
   "pygments_lexer": "ipython3",
   "version": "3.8.3"
  }
 },
 "nbformat": 4,
 "nbformat_minor": 4
}
