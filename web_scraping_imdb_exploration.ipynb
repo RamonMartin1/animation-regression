{
 "cells": [
  {
   "cell_type": "code",
   "execution_count": 1,
   "metadata": {},
   "outputs": [],
   "source": [
    "import pandas as pd\n",
    "import numpy as np\n",
    "import seaborn as sns\n",
    "import matplotlib.pyplot as plt\n",
    "import pickle\n",
    "import datetime\n",
    "import web_scraping as ws\n",
    "\n",
    "%config InlineBackend.figure_format = 'svg'\n",
    "%matplotlib inline\n",
    "sns.set(color_codes=True)\n",
    "plt.style.use('seaborn-colorblind')\n",
    "\n",
    "pd.set_option('display.max_columns', None)\n",
    "pd.set_option('display.max_rows', 50)\n",
    "pd.set_option('display.precision', 2)"
   ]
  },
  {
   "cell_type": "code",
   "execution_count": 404,
   "metadata": {},
   "outputs": [],
   "source": [
    "japan_base_url = 'https://www.imdb.com/search/title/?title_type=feature&release_date=,' \\\n",
    "    '2020-07-01&genres=animation&countries=jp&sort=release_date,desc&count=' \\\n",
    "    '100&view=simple'\n",
    "\n",
    "japan_next_url = 'https://www.imdb.com/search/title/?title_type=feature&release_date=,' \\\n",
    "    '2020-07-01&genres=animation&countries=jp&view=simple&sort=release_date,desc&count=' \\\n",
    "    '100&start=101&ref_=adv_nxt'\n",
    "\n",
    "american_base_url = 'https://www.imdb.com/search/title/?title_type=feature&release_date=,' \\\n",
    "                    '2020-07-01&genres=animation&countries=us&sort=release_date,desc&count=' \\\n",
    "                    '100&view=simple'\n",
    "\n",
    "american_next_url = 'https://www.imdb.com/search/title/?title_type=feature&release_date=,' \\\n",
    "                    '2020-07-01&genres=animation&countries=us&view=simple&sort=release_date,' \\\n",
    "                    'desc&count=100&start=101&ref_=adv_nxt'"
   ]
  },
  {
   "cell_type": "code",
   "execution_count": 6,
   "metadata": {},
   "outputs": [
    {
     "data": {
      "text/plain": [
       "'/title/tt11151982/'"
      ]
     },
     "execution_count": 6,
     "metadata": {},
     "output_type": "execute_result"
    }
   ],
   "source": [
    "all_title_links[8]"
   ]
  },
  {
   "cell_type": "code",
   "execution_count": 5,
   "metadata": {},
   "outputs": [
    {
     "data": {
      "text/plain": [
       "{'title': 'A Whisker Away',\n",
       " 'country': 'Japan',\n",
       " 'runtime_minutes': 104,\n",
       " 'budget': None,\n",
       " 'global_gross': None,\n",
       " 'mpaa_rating': 'TV-PG',\n",
       " 'japan_release_date': datetime.datetime(2020, 6, 18, 0, 0),\n",
       " 'usa_release_date': None,\n",
       " 'genres': 'Animation, Adventure, Family, Fantasy, Romance',\n",
       " 'imdb_user_rating': 6.8,\n",
       " 'imdb_user_rating_count': 2191,\n",
       " 'oscar_wins': None,\n",
       " 'non_oscar_wins': None,\n",
       " 'metascore': None}"
      ]
     },
     "execution_count": 5,
     "metadata": {},
     "output_type": "execute_result"
    },
    {
     "data": {
      "text/plain": [
       "{'title': 'True North',\n",
       " 'country': 'Japan',\n",
       " 'runtime_minutes': 93,\n",
       " 'budget': None,\n",
       " 'global_gross': None,\n",
       " 'mpaa_rating': None,\n",
       " 'japan_release_date': None,\n",
       " 'usa_release_date': None,\n",
       " 'genres': 'Animation',\n",
       " 'imdb_user_rating': 6.5,\n",
       " 'imdb_user_rating_count': 24,\n",
       " 'oscar_wins': None,\n",
       " 'non_oscar_wins': None,\n",
       " 'metascore': None}"
      ]
     },
     "execution_count": 5,
     "metadata": {},
     "output_type": "execute_result"
    },
    {
     "data": {
      "text/plain": [
       "{'title': 'Psycho Pass 3: First Inspector',\n",
       " 'country': 'Japan',\n",
       " 'runtime_minutes': 135,\n",
       " 'budget': None,\n",
       " 'global_gross': 757096,\n",
       " 'mpaa_rating': None,\n",
       " 'japan_release_date': datetime.datetime(2020, 3, 27, 0, 0),\n",
       " 'usa_release_date': None,\n",
       " 'genres': 'Animation, Sci-Fi',\n",
       " 'imdb_user_rating': 7.6,\n",
       " 'imdb_user_rating_count': 187,\n",
       " 'oscar_wins': None,\n",
       " 'non_oscar_wins': None,\n",
       " 'metascore': None}"
      ]
     },
     "execution_count": 5,
     "metadata": {},
     "output_type": "execute_result"
    },
    {
     "data": {
      "text/plain": [
       "{'title': 'Altered Carbon: Resleeved',\n",
       " 'country': 'Japan | USA',\n",
       " 'runtime_minutes': 74,\n",
       " 'budget': None,\n",
       " 'global_gross': None,\n",
       " 'mpaa_rating': 'TV-MA',\n",
       " 'japan_release_date': None,\n",
       " 'usa_release_date': datetime.datetime(2020, 3, 19, 0, 0),\n",
       " 'genres': 'Animation, Action, Crime, Drama, Mystery, Sci-Fi, Thriller',\n",
       " 'imdb_user_rating': 6.5,\n",
       " 'imdb_user_rating_count': 3896,\n",
       " 'oscar_wins': None,\n",
       " 'non_oscar_wins': None,\n",
       " 'metascore': None}"
      ]
     },
     "execution_count": 5,
     "metadata": {},
     "output_type": "execute_result"
    },
    {
     "data": {
      "text/plain": [
       "{'title': 'Gekijôban Shirobako',\n",
       " 'country': 'Japan',\n",
       " 'runtime_minutes': 119,\n",
       " 'budget': None,\n",
       " 'global_gross': 2588312,\n",
       " 'mpaa_rating': None,\n",
       " 'japan_release_date': datetime.datetime(2020, 2, 29, 0, 0),\n",
       " 'usa_release_date': None,\n",
       " 'genres': 'Animation, Comedy, Drama',\n",
       " 'imdb_user_rating': 6.4,\n",
       " 'imdb_user_rating_count': 16,\n",
       " 'oscar_wins': None,\n",
       " 'non_oscar_wins': None,\n",
       " 'metascore': None}"
      ]
     },
     "execution_count": 5,
     "metadata": {},
     "output_type": "execute_result"
    },
    {
     "data": {
      "text/plain": [
       "{'title': 'Digimon Adventure: Last Evolution Kizuna',\n",
       " 'country': 'Japan',\n",
       " 'runtime_minutes': 65,\n",
       " 'budget': None,\n",
       " 'global_gross': 3966107,\n",
       " 'mpaa_rating': None,\n",
       " 'japan_release_date': datetime.datetime(2020, 2, 21, 0, 0),\n",
       " 'usa_release_date': None,\n",
       " 'genres': 'Animation, Action, Adventure, Sci-Fi, Thriller',\n",
       " 'imdb_user_rating': 7.3,\n",
       " 'imdb_user_rating_count': 209,\n",
       " 'oscar_wins': None,\n",
       " 'non_oscar_wins': None,\n",
       " 'metascore': None}"
      ]
     },
     "execution_count": 5,
     "metadata": {},
     "output_type": "execute_result"
    },
    {
     "data": {
      "text/plain": [
       "{'title': 'Gekijoban G No Reconguista II: Bellri Gekishin',\n",
       " 'country': 'Japan',\n",
       " 'runtime_minutes': 95,\n",
       " 'budget': None,\n",
       " 'global_gross': None,\n",
       " 'mpaa_rating': None,\n",
       " 'japan_release_date': datetime.datetime(2020, 2, 21, 0, 0),\n",
       " 'usa_release_date': None,\n",
       " 'genres': 'Animation',\n",
       " 'imdb_user_rating': None,\n",
       " 'imdb_user_rating_count': None,\n",
       " 'oscar_wins': None,\n",
       " 'non_oscar_wins': None,\n",
       " 'metascore': None}"
      ]
     },
     "execution_count": 5,
     "metadata": {},
     "output_type": "execute_result"
    },
    {
     "data": {
      "text/plain": [
       "{'title': 'Saezuru Tori Wa Habatakanai: The Clouds Gather',\n",
       " 'country': 'Japan',\n",
       " 'runtime_minutes': 85,\n",
       " 'budget': None,\n",
       " 'global_gross': None,\n",
       " 'mpaa_rating': None,\n",
       " 'japan_release_date': datetime.datetime(2020, 2, 15, 0, 0),\n",
       " 'usa_release_date': None,\n",
       " 'genres': 'Animation, Crime, Drama, Romance',\n",
       " 'imdb_user_rating': 7.2,\n",
       " 'imdb_user_rating_count': 24,\n",
       " 'oscar_wins': None,\n",
       " 'non_oscar_wins': None,\n",
       " 'metascore': None}"
      ]
     },
     "execution_count": 5,
     "metadata": {},
     "output_type": "execute_result"
    },
    {
     "ename": "IndexError",
     "evalue": "list index out of range",
     "output_type": "error",
     "traceback": [
      "\u001b[0;31m---------------------------------------------------------------------------\u001b[0m",
      "\u001b[0;31mIndexError\u001b[0m                                Traceback (most recent call last)",
      "\u001b[0;32m<ipython-input-5-c8ca3d3ce80f>\u001b[0m in \u001b[0;36m<module>\u001b[0;34m\u001b[0m\n\u001b[1;32m      1\u001b[0m \u001b[0;32mfor\u001b[0m \u001b[0mlink\u001b[0m \u001b[0;32min\u001b[0m \u001b[0mall_title_links\u001b[0m\u001b[0;34m[\u001b[0m\u001b[0;34m:\u001b[0m\u001b[0;36m10\u001b[0m\u001b[0;34m]\u001b[0m\u001b[0;34m:\u001b[0m\u001b[0;34m\u001b[0m\u001b[0;34m\u001b[0m\u001b[0m\n\u001b[0;32m----> 2\u001b[0;31m     \u001b[0mws\u001b[0m\u001b[0;34m.\u001b[0m\u001b[0mget_movie_dict\u001b[0m\u001b[0;34m(\u001b[0m\u001b[0mlink\u001b[0m\u001b[0;34m)\u001b[0m\u001b[0;34m\u001b[0m\u001b[0;34m\u001b[0m\u001b[0m\n\u001b[0m",
      "\u001b[0;32m~/Google Drive/Data Science/Metis Bootcamp/Projects/project_2/animation_regression/web_scraping.py\u001b[0m in \u001b[0;36mget_movie_dict\u001b[0;34m(link)\u001b[0m\n\u001b[1;32m     17\u001b[0m     \u001b[0mtitle\u001b[0m \u001b[0;34m=\u001b[0m \u001b[0mget_title\u001b[0m\u001b[0;34m(\u001b[0m\u001b[0msoup\u001b[0m\u001b[0;34m)\u001b[0m\u001b[0;34m\u001b[0m\u001b[0;34m\u001b[0m\u001b[0m\n\u001b[1;32m     18\u001b[0m     \u001b[0mcountry\u001b[0m \u001b[0;34m=\u001b[0m \u001b[0mget_country\u001b[0m\u001b[0;34m(\u001b[0m\u001b[0msoup\u001b[0m\u001b[0;34m)\u001b[0m\u001b[0;34m\u001b[0m\u001b[0;34m\u001b[0m\u001b[0m\n\u001b[0;32m---> 19\u001b[0;31m     \u001b[0mruntime\u001b[0m \u001b[0;34m=\u001b[0m \u001b[0mget_runtime\u001b[0m\u001b[0;34m(\u001b[0m\u001b[0msoup\u001b[0m\u001b[0;34m)\u001b[0m\u001b[0;34m\u001b[0m\u001b[0;34m\u001b[0m\u001b[0m\n\u001b[0m\u001b[1;32m     20\u001b[0m     \u001b[0mbudget\u001b[0m \u001b[0;34m=\u001b[0m \u001b[0mget_budget\u001b[0m\u001b[0;34m(\u001b[0m\u001b[0msoup\u001b[0m\u001b[0;34m)\u001b[0m\u001b[0;34m\u001b[0m\u001b[0;34m\u001b[0m\u001b[0m\n\u001b[1;32m     21\u001b[0m     \u001b[0mglobal_gross\u001b[0m \u001b[0;34m=\u001b[0m \u001b[0mget_global_gross\u001b[0m\u001b[0;34m(\u001b[0m\u001b[0msoup\u001b[0m\u001b[0;34m)\u001b[0m\u001b[0;34m\u001b[0m\u001b[0;34m\u001b[0m\u001b[0m\n",
      "\u001b[0;32m~/Google Drive/Data Science/Metis Bootcamp/Projects/project_2/animation_regression/web_scraping.py\u001b[0m in \u001b[0;36mget_runtime\u001b[0;34m(soup)\u001b[0m\n\u001b[1;32m    120\u001b[0m     \u001b[0;32mif\u001b[0m \u001b[0msoup\u001b[0m\u001b[0;34m.\u001b[0m\u001b[0mfind\u001b[0m\u001b[0;34m(\u001b[0m\u001b[0;34m'time'\u001b[0m\u001b[0;34m)\u001b[0m\u001b[0;34m:\u001b[0m\u001b[0;34m\u001b[0m\u001b[0;34m\u001b[0m\u001b[0m\n\u001b[1;32m    121\u001b[0m         \u001b[0mraw_runtime\u001b[0m \u001b[0;34m=\u001b[0m \u001b[0msoup\u001b[0m\u001b[0;34m.\u001b[0m\u001b[0mfind\u001b[0m\u001b[0;34m(\u001b[0m\u001b[0;34m'time'\u001b[0m\u001b[0;34m)\u001b[0m\u001b[0;34m.\u001b[0m\u001b[0mtext\u001b[0m\u001b[0;34m.\u001b[0m\u001b[0mstrip\u001b[0m\u001b[0;34m(\u001b[0m\u001b[0;34m)\u001b[0m\u001b[0;34m\u001b[0m\u001b[0;34m\u001b[0m\u001b[0m\n\u001b[0;32m--> 122\u001b[0;31m         \u001b[0;32mreturn\u001b[0m \u001b[0mruntime_to_minutes\u001b[0m\u001b[0;34m(\u001b[0m\u001b[0mraw_runtime\u001b[0m\u001b[0;34m)\u001b[0m\u001b[0;34m\u001b[0m\u001b[0;34m\u001b[0m\u001b[0m\n\u001b[0m\u001b[1;32m    123\u001b[0m     \u001b[0;32mreturn\u001b[0m \u001b[0;32mNone\u001b[0m\u001b[0;34m\u001b[0m\u001b[0;34m\u001b[0m\u001b[0m\n\u001b[1;32m    124\u001b[0m \u001b[0;34m\u001b[0m\u001b[0m\n",
      "\u001b[0;32m~/Google Drive/Data Science/Metis Bootcamp/Projects/project_2/animation_regression/web_scraping.py\u001b[0m in \u001b[0;36mruntime_to_minutes\u001b[0;34m(raw_runtime)\u001b[0m\n\u001b[1;32m    247\u001b[0m     \u001b[0mraw_runtime\u001b[0m \u001b[0;34m=\u001b[0m \u001b[0mraw_runtime\u001b[0m\u001b[0;34m.\u001b[0m\u001b[0mreplace\u001b[0m\u001b[0;34m(\u001b[0m\u001b[0;34m'h'\u001b[0m\u001b[0;34m,\u001b[0m \u001b[0;34m''\u001b[0m\u001b[0;34m)\u001b[0m\u001b[0;34m.\u001b[0m\u001b[0mreplace\u001b[0m\u001b[0;34m(\u001b[0m\u001b[0;34m'min'\u001b[0m\u001b[0;34m,\u001b[0m \u001b[0;34m''\u001b[0m\u001b[0;34m)\u001b[0m\u001b[0;34m\u001b[0m\u001b[0;34m\u001b[0m\u001b[0m\n\u001b[1;32m    248\u001b[0m     \u001b[0mruntime\u001b[0m \u001b[0;34m=\u001b[0m \u001b[0mraw_runtime\u001b[0m\u001b[0;34m.\u001b[0m\u001b[0msplit\u001b[0m\u001b[0;34m(\u001b[0m\u001b[0;34m)\u001b[0m\u001b[0;34m\u001b[0m\u001b[0;34m\u001b[0m\u001b[0m\n\u001b[0;32m--> 249\u001b[0;31m     \u001b[0mminutes\u001b[0m \u001b[0;34m=\u001b[0m \u001b[0mint\u001b[0m\u001b[0;34m(\u001b[0m\u001b[0mruntime\u001b[0m\u001b[0;34m[\u001b[0m\u001b[0;36m0\u001b[0m\u001b[0;34m]\u001b[0m\u001b[0;34m)\u001b[0m\u001b[0;34m*\u001b[0m\u001b[0;36m60\u001b[0m \u001b[0;34m+\u001b[0m \u001b[0mint\u001b[0m\u001b[0;34m(\u001b[0m\u001b[0mruntime\u001b[0m\u001b[0;34m[\u001b[0m\u001b[0;36m1\u001b[0m\u001b[0;34m]\u001b[0m\u001b[0;34m)\u001b[0m\u001b[0;34m\u001b[0m\u001b[0;34m\u001b[0m\u001b[0m\n\u001b[0m\u001b[1;32m    250\u001b[0m     \u001b[0;32mreturn\u001b[0m \u001b[0mminutes\u001b[0m\u001b[0;34m\u001b[0m\u001b[0;34m\u001b[0m\u001b[0m\n\u001b[1;32m    251\u001b[0m \u001b[0;34m\u001b[0m\u001b[0m\n",
      "\u001b[0;31mIndexError\u001b[0m: list index out of range"
     ]
    }
   ],
   "source": [
    "for link in all_title_links[:10]:\n",
    "    ws.get_movie_dict(link)"
   ]
  },
  {
   "cell_type": "code",
   "execution_count": 2,
   "metadata": {},
   "outputs": [],
   "source": [
    "with open('all_title_links.pickle', 'rb') as read_file:\n",
    "    all_title_links = pickle.load(read_file)"
   ]
  },
  {
   "cell_type": "code",
   "execution_count": 3,
   "metadata": {},
   "outputs": [
    {
     "data": {
      "text/plain": [
       "2846"
      ]
     },
     "execution_count": 3,
     "metadata": {},
     "output_type": "execute_result"
    }
   ],
   "source": [
    "len(all_title_links)"
   ]
  },
  {
   "cell_type": "code",
   "execution_count": 7,
   "metadata": {},
   "outputs": [],
   "source": [
    "true_north_soup = ws.create_soup('https://www.imdb.com/title/tt12354974/')"
   ]
  },
  {
   "cell_type": "code",
   "execution_count": 13,
   "metadata": {},
   "outputs": [
    {
     "name": "stdout",
     "output_type": "stream",
     "text": [
      "93 min\n"
     ]
    }
   ],
   "source": [
    "for element in true_north_soup.find_all('h4'):\n",
    "    if 'Runtime:' in element:\n",
    "        print(element.findNext().text)"
   ]
  }
 ],
 "metadata": {
  "kernelspec": {
   "display_name": "Python [conda env:metis] *",
   "language": "python",
   "name": "conda-env-metis-py"
  },
  "language_info": {
   "codemirror_mode": {
    "name": "ipython",
    "version": 3
   },
   "file_extension": ".py",
   "mimetype": "text/x-python",
   "name": "python",
   "nbconvert_exporter": "python",
   "pygments_lexer": "ipython3",
   "version": "3.8.3"
  }
 },
 "nbformat": 4,
 "nbformat_minor": 4
}
