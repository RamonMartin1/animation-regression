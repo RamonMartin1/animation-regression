{
 "cells": [
  {
   "cell_type": "code",
   "execution_count": 1,
   "metadata": {},
   "outputs": [],
   "source": [
    "import pandas as pd\n",
    "import numpy as np\n",
    "import seaborn as sns\n",
    "import matplotlib.pyplot as plt\n",
    "import pickle\n",
    "import datetime\n",
    "import web_scraping as ws\n",
    "\n",
    "%config InlineBackend.figure_format = 'svg'\n",
    "%matplotlib inline\n",
    "sns.set(color_codes=True)\n",
    "plt.style.use('seaborn-colorblind')\n",
    "\n",
    "pd.set_option('display.max_columns', None)\n",
    "pd.set_option('display.max_rows', 50)\n",
    "pd.set_option('display.precision', 2)"
   ]
  },
  {
   "cell_type": "code",
   "execution_count": 162,
   "metadata": {},
   "outputs": [],
   "source": [
    "with open('combined_movie_df_6.pickle', 'rb') as read_file:\n",
    "    movie_df = pickle.load(read_file)"
   ]
  },
  {
   "cell_type": "code",
   "execution_count": 262,
   "metadata": {},
   "outputs": [],
   "source": [
    "with open('combined_movie_df_6.pickle', 'wb') as to_write:\n",
    "    pickle.dump(movie_df, to_write)"
   ]
  },
  {
   "cell_type": "code",
   "execution_count": 106,
   "metadata": {},
   "outputs": [],
   "source": [
    "# Put in data_cleaning module\n",
    "\n",
    "def find_unique_genres(df):\n",
    "    unique_genres = []\n",
    "    genres_list_of_lists = df['genres'].value_counts().index.to_list()\n",
    "    for genres_list in genres_list_of_lists:\n",
    "        unique_genres += genres_list\n",
    "#     unique_genres_set = set(unique_genres)\n",
    "    return set(unique_genres)\n",
    "\n",
    "# def clean_unique_genres_set(unique_genres_set):\n",
    "#     cleaned_set = set()\n",
    "#     for genre in unique_genres_set:\n",
    "#         cleaned_set.add(genre.strip())\n",
    "#     return cleaned_set"
   ]
  },
  {
   "cell_type": "code",
   "execution_count": 130,
   "metadata": {},
   "outputs": [],
   "source": [
    "# Put in feature_engineering module\n",
    "\n",
    "def create_genre_encodings(df, unique_genres):\n",
    "    for genre in unique_genres:\n",
    "        df['is_' + genre] = df.apply(lambda x: genre in x['genres'], axis=1).astype(int)"
   ]
  },
  {
   "cell_type": "code",
   "execution_count": 120,
   "metadata": {},
   "outputs": [],
   "source": [
    "is_genre_cols = ['is_Action', 'is_Adventure',\n",
    "                 'is_Animation', 'is_Biography', 'is_Comedy', 'is_Crime', 'is_Drama',\n",
    "                 'is_Family', 'is_Fantasy', 'is_History', 'is_Horror', 'is_Music',\n",
    "                 'is_Musical', 'is_Mystery', 'is_News', 'is_Romance', 'is_Sci-Fi',\n",
    "                 'is_Sport', 'is_Thriller', 'is_War', 'is_Western']"
   ]
  }
 ],
 "metadata": {
  "kernelspec": {
   "display_name": "Python [conda env:metis] *",
   "language": "python",
   "name": "conda-env-metis-py"
  },
  "language_info": {
   "codemirror_mode": {
    "name": "ipython",
    "version": 3
   },
   "file_extension": ".py",
   "mimetype": "text/x-python",
   "name": "python",
   "nbconvert_exporter": "python",
   "pygments_lexer": "ipython3",
   "version": "3.8.3"
  }
 },
 "nbformat": 4,
 "nbformat_minor": 4
}
