{
 "cells": [
  {
   "cell_type": "markdown",
   "metadata": {},
   "source": [
    "**Project 2 to-dos:**\n",
    "1. Write functions to pull title urls - **DONE**\n",
    "2. Test functions on American/Japanese animated movie search (does it pull all the necessary movie imdb URLs)? - **DONE**\n",
    "3. Read existing literature on box office revenue drivers\n",
    "4. Create a list of necessary features\n",
    "5. Create functions to scrape all the necessary data from each URL\n",
    "6. Put all data into dataframe\n",
    "7. Train models\n",
    "8. Cross-validate models \n",
    "9. Test models\n",
    "10. Explain/visualize results\n",
    "11. Create PPT"
   ]
  },
  {
   "cell_type": "markdown",
   "metadata": {},
   "source": [
    "**Project 2 Steps:**    \n",
    "1. Literature review\n",
    "2. Web scraping \n",
    "3. Data cleaning"
   ]
  },
  {
   "cell_type": "markdown",
   "metadata": {},
   "source": [
    "**Project 2 Questions:**\n",
    "1. What to do about animated films made in both Japan/US? Just take them out of the dataset? Or put them in both the Japan/US regression? \n",
    "    * Take them out of the dataset to isolate the differences between Japanese and American animated films"
   ]
  },
  {
   "cell_type": "markdown",
   "metadata": {},
   "source": [
    "**List of features:**\n",
    "* Title - **DONE**\n",
    "* Runtime - **DONE**\n",
    "* Budget - **DONE**\n",
    "* MPAA rating (e.g. G, PG, PG-13, R) - **DONE**\n",
    "* Release date - **DONE**\n",
    "    * Christmas/New Year release (December and first week of January)\n",
    "    * Summer release (June, July, August) \n",
    "* Sub-genre? - leave out for now\n",
    "* IMDb user rating (a weighted average score of user ratings; the weights are not disclosed) - **DONE**\n",
    "* \\# of IMDb user ratings\n",
    "* \\# of Oscar wins\n",
    "* Number of awards won in general (since there are a lot of animation specific awards)\n",
    "* Number of nominations in general\n",
    "* Metascore (a weighted average score of critic ratings; the weights are not disclosed)\n",
    "* What are the American animation/Japanese animation equivalent of Oscars?\n",
    "    * Annie Awards \n",
    "    * Japan Academy Awards\n",
    "* Sequel - BUT NOT AVAILABLE ON imdb"
   ]
  },
  {
   "cell_type": "code",
   "execution_count": 56,
   "metadata": {},
   "outputs": [],
   "source": [
    "import pandas as pd\n",
    "import numpy as np\n",
    "import seaborn as sns\n",
    "import matplotlib.pyplot as plt\n",
    "import pickle\n",
    "import datetime\n",
    "from bs4 import BeautifulSoup\n",
    "import requests\n",
    "import re\n",
    "\n",
    "%config InlineBackend.figure_format = 'svg'\n",
    "%matplotlib inline\n",
    "sns.set(color_codes=True)\n",
    "plt.style.use('seaborn-colorblind')\n",
    "\n",
    "pd.set_option('display.max_columns', None)\n",
    "pd.set_option('display.max_rows', 50)\n",
    "pd.set_option('display.precision', 2)"
   ]
  },
  {
   "cell_type": "markdown",
   "metadata": {},
   "source": [
    "Search: https://www.imdb.com/search/title/  \n",
    "Title type: Feature film  \n",
    "Release date: up to July 1, 2020\n",
    "Genres: Animation  \n",
    "Countries: Japan; United States (the countries need to be searched separately)  \n",
    "Display options: Detailed, 100 per page    \n",
    "Adult titles: Exclude  \n",
    "Sorted by: Release date descending  "
   ]
  },
  {
   "cell_type": "markdown",
   "metadata": {},
   "source": [
    "Search: https://pro.imdb.com/find?q=&showRVCWidget=true&ref_=hm_nv_search#keyspace=TITLE&sort=ranking  \n",
    "Type: Movie  \n",
    "Status: Released  \n",
    "Country: United States, Japan  \n",
    "**Note to self:** I can use beautifulsoup to find the individual links for each movie (from a search page) and then do a request for each of those individual links  "
   ]
  },
  {
   "cell_type": "code",
   "execution_count": 13,
   "metadata": {},
   "outputs": [],
   "source": [
    "japan_base_url = 'https://www.imdb.com/search/title/?title_type=feature&release_date=,' \\\n",
    "           '2020-07-01&genres=animation&countries=jp&sort=release_date,desc&count=' \\\n",
    "           '100&view=simple'"
   ]
  },
  {
   "cell_type": "code",
   "execution_count": 14,
   "metadata": {},
   "outputs": [
    {
     "data": {
      "text/plain": [
       "'https://www.imdb.com/search/title/?title_type=feature&release_date=,2020-07-01&genres=animation&countries=jp&sort=release_date,desc&count=100&view=simple'"
      ]
     },
     "execution_count": 14,
     "metadata": {},
     "output_type": "execute_result"
    }
   ],
   "source": [
    "japan_base_url"
   ]
  },
  {
   "cell_type": "code",
   "execution_count": 3,
   "metadata": {},
   "outputs": [],
   "source": [
    "american_base_url = 'https://www.imdb.com/search/title/?title_type=feature&release_date=,' \\\n",
    "                    '2020-07-01&genres=animation&countries=us&sort=release_date,desc&count=' \\\n",
    "                    '100&view=simple'"
   ]
  },
  {
   "cell_type": "code",
   "execution_count": 4,
   "metadata": {},
   "outputs": [],
   "source": [
    "japan_next_url = 'https://www.imdb.com/search/title/?title_type=feature&release_date=,' \\\n",
    "                '2020-07-01&genres=animation&countries=jp&view=simple&sort=release_date,desc&count=' \\\n",
    "                '100&start=101&ref_=adv_nxt'"
   ]
  },
  {
   "cell_type": "code",
   "execution_count": 5,
   "metadata": {},
   "outputs": [],
   "source": [
    "american_next_url = 'https://www.imdb.com/search/title/?title_type=feature&release_date=,' \\\n",
    "                    '2020-07-01&genres=animation&countries=us&view=simple&sort=release_date,' \\\n",
    "                    'desc&count=100&start=101&ref_=adv_nxt'"
   ]
  },
  {
   "cell_type": "code",
   "execution_count": 6,
   "metadata": {},
   "outputs": [],
   "source": [
    "def get_search_urls(base_url, next_url):\n",
    "    search_urls = [base_url, next_url]\n",
    "    num_titles = get_num_titles(base_url)\n",
    "\n",
    "    for i in range(num_titles//100-1):\n",
    "        search_urls.append(\n",
    "            next_url.replace('101', str(201+100*i)))\n",
    "    return search_urls"
   ]
  },
  {
   "cell_type": "code",
   "execution_count": 7,
   "metadata": {},
   "outputs": [],
   "source": [
    "def get_num_titles(base_url):\n",
    "    soup = create_soup(base_url)\n",
    "    mini_header = soup.find('div', class_='desc').findNext().text.split()\n",
    "    num_titles = int(\n",
    "        mini_header[mini_header.index('titles.')-1].replace(',', ''))\n",
    "    return num_titles"
   ]
  },
  {
   "cell_type": "code",
   "execution_count": 8,
   "metadata": {},
   "outputs": [],
   "source": [
    "def create_soup(url):\n",
    "    response_text = requests.get(url).text\n",
    "    soup = BeautifulSoup(response_text, 'html5lib')\n",
    "    return soup"
   ]
  },
  {
   "cell_type": "code",
   "execution_count": 9,
   "metadata": {},
   "outputs": [],
   "source": [
    "def create_soups(urls):\n",
    "    soups = []\n",
    "    for url in urls:\n",
    "        response_text = requests.get(url).text\n",
    "        soup = BeautifulSoup(response_text, 'html5lib')\n",
    "        soups.append(soup)\n",
    "    return soups"
   ]
  },
  {
   "cell_type": "code",
   "execution_count": 10,
   "metadata": {},
   "outputs": [],
   "source": [
    "# I was missing the 's' in title_urls! Be careful about variable names (keep them short and simple)\n",
    "def get_title_urls(soups):\n",
    "    titles_urls = []\n",
    "    for soup in soups:\n",
    "        title_spans = soup.find(\n",
    "            'div', class_='lister-list').find_all('span', class_='lister-item-header')\n",
    "        for element in title_spans:\n",
    "            titles_urls.append(element.find('a').get('href'))\n",
    "    return titles_urls"
   ]
  },
  {
   "cell_type": "code",
   "execution_count": 11,
   "metadata": {},
   "outputs": [
    {
     "data": {
      "text/plain": [
       "1361"
      ]
     },
     "execution_count": 11,
     "metadata": {},
     "output_type": "execute_result"
    },
    {
     "data": {
      "text/plain": [
       "'/title/tt12478494/'"
      ]
     },
     "execution_count": 11,
     "metadata": {},
     "output_type": "execute_result"
    },
    {
     "data": {
      "text/plain": [
       "'/title/tt12280576/'"
      ]
     },
     "execution_count": 11,
     "metadata": {},
     "output_type": "execute_result"
    }
   ],
   "source": [
    "# Checking if my functions work to pull all Japanese animated film urls\n",
    "\n",
    "japan_search_urls = get_search_urls(japan_base_url, japan_next_url)\n",
    "japan_search_soups = create_soups(japan_search_urls)\n",
    "japan_title_urls = get_title_urls(japan_search_soups)\n",
    "len(japan_title_urls)\n",
    "japan_title_urls[9]\n",
    "japan_title_urls[100]"
   ]
  },
  {
   "cell_type": "code",
   "execution_count": 12,
   "metadata": {},
   "outputs": [
    {
     "data": {
      "text/plain": [
       "1484"
      ]
     },
     "execution_count": 12,
     "metadata": {},
     "output_type": "execute_result"
    },
    {
     "data": {
      "text/plain": [
       "'/title/tt12203840/'"
      ]
     },
     "execution_count": 12,
     "metadata": {},
     "output_type": "execute_result"
    },
    {
     "data": {
      "text/plain": [
       "'/title/tt1620981/'"
      ]
     },
     "execution_count": 12,
     "metadata": {},
     "output_type": "execute_result"
    }
   ],
   "source": [
    "# Checking if my functions work to pull all American animated film urls\n",
    "\n",
    "american_search_urls = get_search_urls(american_base_url, american_next_url)\n",
    "american_search_soups = create_soups(american_search_urls)\n",
    "american_title_urls = get_title_urls(american_search_soups)\n",
    "len(american_title_urls)\n",
    "american_title_urls[25]\n",
    "american_title_urls[100]"
   ]
  },
  {
   "cell_type": "code",
   "execution_count": 23,
   "metadata": {},
   "outputs": [],
   "source": [
    "your_name_url = 'https://www.imdb.com/title/tt5311514/'\n",
    "toy_story_2_url = 'https://www.imdb.com/title/tt0120363/'"
   ]
  },
  {
   "cell_type": "code",
   "execution_count": 119,
   "metadata": {},
   "outputs": [],
   "source": [
    "def get_title(soup):\n",
    "    if soup.find('h1'):\n",
    "        raw_text = soup.find('h1').text.strip()\n",
    "        return clean_title(raw_text)\n",
    "    else:\n",
    "        return None    "
   ]
  },
  {
   "cell_type": "code",
   "execution_count": 61,
   "metadata": {},
   "outputs": [],
   "source": [
    "def get_runtime(soup):\n",
    "    if soup.find('time'):\n",
    "        return soup.find('time').text.strip()\n",
    "    else:\n",
    "        return None    "
   ]
  },
  {
   "cell_type": "code",
   "execution_count": null,
   "metadata": {},
   "outputs": [],
   "source": [
    "def get_MPAA_rating(soup):\n",
    "    if soup.find('div', class_'subtext'):\n",
    "        return soup.find('div', class_='subtext').text.strip().split()[0]\n",
    "    else:\n",
    "        return None"
   ]
  },
  {
   "cell_type": "code",
   "execution_count": null,
   "metadata": {},
   "outputs": [],
   "source": [
    "def get_user_rating(soup):\n",
    "    if soup.find('span', itemprop='ratingValue'):\n",
    "        return soup.find('span', itemprop='ratingValue').text\n",
    "    else:\n",
    "        return None"
   ]
  },
  {
   "cell_type": "code",
   "execution_count": 58,
   "metadata": {},
   "outputs": [],
   "source": [
    "def clean_title(string):\n",
    "    return re.sub('\\\\xa0.+', '', string)"
   ]
  },
  {
   "cell_type": "code",
   "execution_count": 94,
   "metadata": {},
   "outputs": [
    {
     "data": {
      "text/plain": [
       "'Budget:JPY370,000,000\\n            (estimated)'"
      ]
     },
     "execution_count": 94,
     "metadata": {},
     "output_type": "execute_result"
    }
   ],
   "source": [
    "your_name_soup.find(text='Budget:').findParent().findParent().text.strip()"
   ]
  },
  {
   "cell_type": "code",
   "execution_count": 112,
   "metadata": {},
   "outputs": [],
   "source": [
    "def get_budget(soup):\n",
    "    if soup.find(text='Budget:'):\n",
    "        raw_text = soup.find(\n",
    "            text='Budget:').findParent().findParent().text.strip()\n",
    "        return clean_budget(raw_text)\n",
    "    else:\n",
    "        return None"
   ]
  },
  {
   "cell_type": "code",
   "execution_count": 111,
   "metadata": {},
   "outputs": [],
   "source": [
    "def clean_budget(string):\n",
    "    string = string.replace('Budget:', '').replace(',', '')\n",
    "    return re.sub('\\\\n.+', '', string)"
   ]
  },
  {
   "cell_type": "code",
   "execution_count": 121,
   "metadata": {},
   "outputs": [],
   "source": [
    "def get_user_rating_count(soup):\n",
    "    if soup.find(itemprop='ratingCount'):\n",
    "        raw_text = soup.find(itemprop='ratingCount').text\n",
    "        return remove_commas(raw_text)\n",
    "    else:\n",
    "        return None"
   ]
  },
  {
   "cell_type": "code",
   "execution_count": 120,
   "metadata": {},
   "outputs": [],
   "source": [
    "def remove_commas(string):\n",
    "    return string.replace(',', '')"
   ]
  },
  {
   "cell_type": "code",
   "execution_count": 122,
   "metadata": {},
   "outputs": [
    {
     "data": {
      "text/plain": [
       "'173449'"
      ]
     },
     "execution_count": 122,
     "metadata": {},
     "output_type": "execute_result"
    }
   ],
   "source": [
    "get_user_rating_count(your_name_soup)"
   ]
  },
  {
   "cell_type": "code",
   "execution_count": 123,
   "metadata": {},
   "outputs": [
    {
     "data": {
      "text/plain": [
       "'511459'"
      ]
     },
     "execution_count": 123,
     "metadata": {},
     "output_type": "execute_result"
    }
   ],
   "source": [
    "get_user_rating_count(toy_story_2_soup)"
   ]
  },
  {
   "cell_type": "code",
   "execution_count": null,
   "metadata": {},
   "outputs": [],
   "source": []
  }
 ],
 "metadata": {
  "kernelspec": {
   "display_name": "Python [conda env:metis] *",
   "language": "python",
   "name": "conda-env-metis-py"
  },
  "language_info": {
   "codemirror_mode": {
    "name": "ipython",
    "version": 3
   },
   "file_extension": ".py",
   "mimetype": "text/x-python",
   "name": "python",
   "nbconvert_exporter": "python",
   "pygments_lexer": "ipython3",
   "version": "3.8.3"
  }
 },
 "nbformat": 4,
 "nbformat_minor": 4
}
